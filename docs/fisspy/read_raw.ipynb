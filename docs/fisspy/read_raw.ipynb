{
 "cells": [
  {
   "cell_type": "markdown",
   "metadata": {},
   "source": [
    "# Read raw data <span style=\"color: \">"
   ]
  },
  {
   "cell_type": "markdown",
   "metadata": {},
   "source": [
    "Read a raw file of the FISS\n",
    "\n",
    "*<span style=\"color:blue;\">class</span>* fisspy.read.read_factory.raw(*filename*)\n",
    "\n",
    "**Parameters**\n",
    "\n",
    "file: `str` \n",
    "<br>&nbsp;&nbsp;&nbsp;&nbsp; File name of the raw data file of the FISS.\n",
    "\n",
    "<hr>\n",
    "\n",
    "**Attributes documentation**\n",
    "\n",
    "<hr>\n",
    "Methods documentation\n"
   ]
  },
  {
   "cell_type": "code",
   "execution_count": null,
   "metadata": {
    "vscode": {
     "languageId": "plaintext"
    }
   },
   "outputs": [],
   "source": []
  }
 ],
 "metadata": {
  "language_info": {
   "name": "python"
  }
 },
 "nbformat": 4,
 "nbformat_minor": 2
}
