{
 "cells": [
  {
   "cell_type": "markdown",
   "metadata": {},
   "source": [
    "## Read ([FISSpy.read](#read-fisspyread))\n",
    "\n",
    "This sub-packages is used to read the all FISS data such as proc (\"...1.fts\"), comp (\"...1_c.fts\"), and aligncube data (\"....npz\").\n",
    "\n",
    "In addition, it is also used to quick look analysis by using interactive image.\n",
    "\n",
    "\n",
    "### Classes\n",
    "\n",
    "|Class|Description|\n",
    "|---|---|\n",
    "|[FISS](??)|Read a proc or comp file.|\n",
    "|[FD](??)|Read the FISS lev2 Data file <font class='text-danger'>(will be deprecated since version v2.0.0)</font>.|\n",
    "|[AlignCube](??)|Read an alignCube file.|\n"
   ]
  }
 ],
 "metadata": {
  "kernelspec": {
   "display_name": "Python 3",
   "language": "python",
   "name": "python3"
  },
  "language_info": {
   "name": "python",
   "version": "3.12.0"
  }
 },
 "nbformat": 4,
 "nbformat_minor": 2
}
