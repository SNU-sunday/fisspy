{
 "cells": [
  {
   "cell_type": "markdown",
   "metadata": {},
   "source": [
    "## FISSpy.read\n",
    "\n",
    "Read module is used to read the all FISS data such as proc (\"...1.fts\"), comp (\"...1_c.fts\"), and aligncube data (\"....npz\").\n",
    "\n",
    "In addition to read the data, one can simply draw the interactive image.\n",
    "For this purpose, one should change the matplotlib backend of the IPython to show the figure on the separate figure window, not inline.\n",
    "\n",
    "Read Data\n",
    "---------\n",
    "|Class|Description|\n",
    "|---|---|\n",
    "|[FISS](??)|Read a proc or comp file.|\n",
    "|[FD](??)|Read the FISS lev2 Data file.|\n",
    "|[AlignCube](??)|Read an alignCube file.|\n"
   ]
  },
  {
   "cell_type": "code",
   "execution_count": null,
   "metadata": {},
   "outputs": [],
   "source": []
  }
 ],
 "metadata": {
  "kernelspec": {
   "display_name": "Python 3",
   "language": "python",
   "name": "python3"
  },
  "language_info": {
   "name": "python",
   "version": "3.12.0"
  }
 },
 "nbformat": 4,
 "nbformat_minor": 2
}
