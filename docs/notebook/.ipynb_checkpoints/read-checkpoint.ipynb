{
 "cells": [
  {
   "cell_type": "markdown",
   "metadata": {},
   "source": [
    "# FISSPy read"
   ]
  },
  {
   "cell_type": "markdown",
   "metadata": {},
   "source": [
    "## Overview\n",
    "\n",
    "One of the core modules in FISSPy is read module. By using the classes in this module, you can easily read or analysis the observed data taken by FISS. Since there are a few kinds of FISS data, such as raw data, processed data, compressed data and etc..., there are a few classes to read each kinds of data types. All of the classes include the data and header file, and can show the data image interactively."
   ]
  },
  {
   "cell_type": "markdown",
   "metadata": {},
   "source": [
    "## Read the processed or compressed data"
   ]
  },
  {
   "cell_type": "markdown",
   "metadata": {},
   "source": [
    "#### <span style=\"color:#ff6600\">class</span> <span style=\"color:blue\">fisspy.read.FISS</span>(file, x1=0, x2=None, y1=0, y2=None, ncoeff=False, noiseSuppression=False, simpleWaveCalib=True, absScale=True, **kwargs)\n",
    "\n",
    "Read a FISS data file (proc or comp).\n",
    "\n",
    "***Parameters***\n",
    "* file (str) - File name of the FISS fts data.\n",
    "* x1 (int, optional) - A left limit index of the frame along the scan direction\n",
    "* x2 (int, optional) - A right limit index of the frame along the scan direction. If None, read all data from x1 to the end of the scan direction.\n",
    "* y1 (int, optional) - A left limit index of the frame along the scan direction.\n",
    "* y2 (int, optional) - A right limit index of the frame along the scan direction. If None, read all data from x1 to the end of the scan direction.\n",
    "* ncoeff (int, optional) - The number of coefficients to be used for the construction of frame in a pca file.\n",
    "* nosieSuppression (bool, optional) - If True Savitzky-Golay noise filter is applied in the wavelength axis. Default is **False.**\n",
    "* simpleWaveCalib (bool, optional) - If True wavelength is simply calibrated by using the header parameters. Default is **False**\n",
    "* absScale (bool, optional) - If False the central wavelength is set to be zero. If True the central wavelength is set to be wavelength at lab frame. It works if simpleWvCalibration is True. Default is **True**\n",
    "\n",
    "***Other Parameters***\n",
    "* \\*\\*kwargs: [`~scipy.signal.savgol_filter`](https://docs.scipy.org/doc/scipy/reference/generated/scipy.signal.savgol_filter.html) properties"
   ]
  },
  {
   "cell_type": "markdown",
   "metadata": {},
   "source": [
    "## Example"
   ]
  },
  {
   "cell_type": "code",
   "execution_count": 1,
   "metadata": {},
   "outputs": [],
   "source": [
    "from fisspy.read import FISS\n",
    "f = 'D:/test/20140603_ar_01/FISS_20140603_195050_A1_c.fts'\n",
    "fiss = FISS(f)"
   ]
  },
  {
   "cell_type": "markdown",
   "metadata": {},
   "source": [
    "The inheritance of the **FISS** class has a simple information of the FISS data, such as date, ndim, nwv, nx, ny, band and etc..."
   ]
  },
  {
   "cell_type": "code",
   "execution_count": 2,
   "metadata": {},
   "outputs": [
    {
     "data": {
      "text/plain": [
       "'2014-06-03T19:50:50'"
      ]
     },
     "execution_count": 2,
     "metadata": {},
     "output_type": "execute_result"
    }
   ],
   "source": [
    "fiss.date"
   ]
  },
  {
   "cell_type": "code",
   "execution_count": 3,
   "metadata": {
    "scrolled": true
   },
   "outputs": [
    {
     "data": {
      "text/plain": [
       "SIMPLE  =                    T /  file does conform to FITS standard            \n",
       "BITPIX  =                   16 /  number of bits per data pixel                 \n",
       "NAXIS   =                    3 /  number of data axes                           \n",
       "NAXIS1  =                  512 /  length of data axis 1                         \n",
       "NAXIS2  =                  256 /  length of data axis 2                         \n",
       "NAXIS3  =                  130 /  length of data axis 3                         \n",
       "DATE    = '2014-06-03T19:50:50' /  file creation date (YYYY-MM-DDThh:mm:s       \n",
       "EXPTIME =                 0.03 /  Second                                        \n",
       "HBINNING=                    1                                                  \n",
       "VBINNING=                    2                                                  \n",
       "GAIN    =                    0 /  Value Range: 0-255                            \n",
       "STRTIME = '2014.06.03-19:50:32' /  Scan Start Time                              \n",
       "ENDTIME = '2014.06.03-19:50:50' /  Scan Finish Time                             \n",
       "ELAPTIME=             17.88163 /  Elapse Time During Scanning(Second)           \n",
       "FISSMODE= 'Spectrograph'       /  FISS Mode                                     \n",
       "STEPTIME=                130.0 /  1 Step Duration time(millisecond)             \n",
       "STEPSIZE=         4.484155E-44 /  1 step size to move scanner(micrometer)       \n",
       "CCDTEMP =                  -27 /  Cooling Temperature of CCD                    \n",
       "CCDNAME = 'DV897_BV'           /  Productname of CCD                            \n",
       "WAVELEN = '6562.8  '           /  CCD1 Wavenength(angstrom)                     \n",
       "CCD_XPIX=                  512 /  Full Pixel Size of X                          \n",
       "CCD_YPIX=                  512 /  Full Pixel Size of Y                          \n",
       "OBSERVER= 'Donguk Song'        /  The Name of Main Observer                     \n",
       "TARGET  = 'Active Region'      /  Observation Target                            \n",
       "ARNUMBER= '12077   '           /  Active Region Number                          \n",
       "TEL_XPOS=                 -344 /  X position of Telescope on the Sun            \n",
       "TEL_YPOS=                  105 /  Y position of Telescope on the Sun            \n",
       "CRPIX1  =        265.006225586 /  pixel position of reference line center       \n",
       "CDELT1  =      0.0191588263211 / angstrom per pixel                             \n",
       "CRVAL1  =             6562.817 / angstrom of reference line center              \n",
       "HISTROY = 'processed by FISS_PREP'                                              \n",
       "HISTORY dark+bias subtracted                                                    \n",
       "HISTORY flat-fieldded                                                           \n",
       "HISTORY -0.28 degree tilt corrected                                             \n",
       "HISTORY displacement/distortion corrected                                       "
      ]
     },
     "execution_count": 3,
     "metadata": {},
     "output_type": "execute_result"
    }
   ],
   "source": [
    "fiss.header"
   ]
  },
  {
   "cell_type": "markdown",
   "metadata": {},
   "source": [
    "A specific header parameter can be called as like below"
   ]
  },
  {
   "cell_type": "code",
   "execution_count": 11,
   "metadata": {},
   "outputs": [
    {
     "data": {
      "text/plain": [
       "'2014-06-03T19:50:50'"
      ]
     },
     "execution_count": 11,
     "metadata": {},
     "output_type": "execute_result"
    }
   ],
   "source": [
    "fiss.header['date']"
   ]
  },
  {
   "cell_type": "markdown",
   "metadata": {},
   "source": [
    "This inheritance has data and wavelength arrays. Tha names of these variables are:"
   ]
  },
  {
   "cell_type": "code",
   "execution_count": 6,
   "metadata": {
    "scrolled": true
   },
   "outputs": [],
   "source": [
    "data = fiss.data"
   ]
  },
  {
   "cell_type": "code",
   "execution_count": 7,
   "metadata": {},
   "outputs": [
    {
     "data": {
      "text/plain": [
       "(256, 130, 512)"
      ]
     },
     "execution_count": 7,
     "metadata": {},
     "output_type": "execute_result"
    }
   ],
   "source": [
    "data.shape"
   ]
  },
  {
   "cell_type": "code",
   "execution_count": 8,
   "metadata": {
    "scrolled": true
   },
   "outputs": [],
   "source": [
    "wave = fiss.wave"
   ]
  },
  {
   "cell_type": "code",
   "execution_count": 9,
   "metadata": {},
   "outputs": [
    {
     "data": {
      "text/plain": [
       "(512,)"
      ]
     },
     "execution_count": 9,
     "metadata": {},
     "output_type": "execute_result"
    }
   ],
   "source": [
    "wave.shape"
   ]
  },
  {
   "cell_type": "code",
   "execution_count": 12,
   "metadata": {},
   "outputs": [
    {
     "data": {
      "text/plain": [
       "6562.644451288189"
      ]
     },
     "execution_count": 12,
     "metadata": {},
     "output_type": "execute_result"
    }
   ],
   "source": [
    "wave[fiss.nwv//2]"
   ]
  },
  {
   "cell_type": "markdown",
   "metadata": {},
   "source": [
    "If you read the fiss data with the default keyword parameters, the wavelength is calibrated in the absolute frame. If you read the wavelength which is calibrated in the relative frame, you can use the absScale=**False**."
   ]
  },
  {
   "cell_type": "code",
   "execution_count": 13,
   "metadata": {},
   "outputs": [],
   "source": [
    "fiss2 = FISS(f, absScale=False)"
   ]
  },
  {
   "cell_type": "code",
   "execution_count": 14,
   "metadata": {},
   "outputs": [
    {
     "data": {
      "text/plain": [
       "-0.17254871181082163"
      ]
     },
     "execution_count": 14,
     "metadata": {},
     "output_type": "execute_result"
    }
   ],
   "source": [
    "fiss2.wave[fiss2.nwv//2]"
   ]
  },
  {
   "cell_type": "markdown",
   "metadata": {},
   "source": [
    "You can read not all the fiss data but a portion of the data by using, x1, x2, y1, y2 parameters. You can also reload the already loaded data by using reload function."
   ]
  },
  {
   "cell_type": "code",
   "execution_count": 15,
   "metadata": {
    "scrolled": false
   },
   "outputs": [],
   "source": [
    "fiss.reload(x1=30, x2=100, y1=93, y2=163)"
   ]
  },
  {
   "cell_type": "code",
   "execution_count": 16,
   "metadata": {},
   "outputs": [
    {
     "data": {
      "text/plain": [
       "(70, 70, 512)"
      ]
     },
     "execution_count": 16,
     "metadata": {},
     "output_type": "execute_result"
    }
   ],
   "source": [
    "fiss.data.shape"
   ]
  },
  {
   "cell_type": "markdown",
   "metadata": {},
   "source": [
    "You can easily make a raster image by using the built in **getRaster** function."
   ]
  },
  {
   "cell_type": "markdown",
   "metadata": {},
   "source": [
    "##### <span style=\"color:#ff6600\">function</span> <span style=\"color:blue\">FISS.getRaster</span>(wv, hw=0.05):\n",
    "\n",
    "Make a raster image for a given wavelength with in width 2*hw.\n",
    "\n",
    "***Parameters***\n",
    "* wv (float) - Referenced wavelength.\n",
    "* hw (float) - A half-width of wavelength to be integrated. Default is 0.05."
   ]
  },
  {
   "cell_type": "code",
   "execution_count": 21,
   "metadata": {},
   "outputs": [],
   "source": [
    "raster = fiss.getRaster(0.1)"
   ]
  },
  {
   "cell_type": "code",
   "execution_count": 22,
   "metadata": {
    "scrolled": true
   },
   "outputs": [
    {
     "data": {
      "text/plain": [
       "(70, 70)"
      ]
     },
     "execution_count": 22,
     "metadata": {},
     "output_type": "execute_result"
    }
   ],
   "source": [
    "raster.shape"
   ]
  },
  {
   "cell_type": "markdown",
   "metadata": {},
   "source": [
    "The most powerful function of this class is the **imshow** function that draw interactive image of FISS rastster, spectrogram and profile."
   ]
  },
  {
   "cell_type": "markdown",
   "metadata": {},
   "source": [
    "##### <span style=\"color:#ff6600\">function</span> <span style=\"color:blue\">FISS.imshow</span>(x=None, y=None, wv=None, scale='minMax', sigFactor=3, helpBox=True, **kwargs):\n",
    "\n",
    "Draw interactive FISS raster, spectrogram and profile.\n",
    "\n",
    "***Parameters***\n",
    "* x (float) - x position that you draw a spectral profile. Default is center of the raster image.\n",
    "* y (float) - y position that you draw a spectral profile. Default is center of the raster image.\n",
    "* wv (float) - Wavelength position that you draw a raster images. Default is central wavelength.\n",
    "* scale (str) - Scale method of the raster image. Default is *minMax*. Option: *'minMax'*, *'std'*, and *'log'*.\n",
    "* sigFactor (float) - Factor of standard deviation. This is worked if scale is set to be *'std'*.\n",
    "* helpBox (bool) - Show the interactive key and simple explanation. Default is True."
   ]
  },
  {
   "cell_type": "code",
   "execution_count": null,
   "metadata": {},
   "outputs": [],
   "source": []
  }
 ],
 "metadata": {
  "kernelspec": {
   "display_name": "Python 3",
   "language": "python",
   "name": "python3"
  },
  "language_info": {
   "codemirror_mode": {
    "name": "ipython",
    "version": 3
   },
   "file_extension": ".py",
   "mimetype": "text/x-python",
   "name": "python",
   "nbconvert_exporter": "python",
   "pygments_lexer": "ipython3",
   "version": "3.7.7"
  }
 },
 "nbformat": 4,
 "nbformat_minor": 2
}
