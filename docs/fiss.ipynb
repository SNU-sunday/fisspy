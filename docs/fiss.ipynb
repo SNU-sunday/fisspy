{
 "cells": [
  {
   "cell_type": "markdown",
   "metadata": {},
   "source": [
    "# FISS\n",
    "*class* fisspy.read.read_factory.<font class=\"text-warning\">FISS</font>(*file, x1=0, x2=None, y1=0, y2=None, ncoeff=False, smoothingMethod=None, wvCalibMethod='simple', &ast;&ast;kwargs*) <p style=\"text-align:right;\"><a href=\"https://github.com/SNU-sunday/fisspy/blob/master/fisspy/read/read_factory.py#L176\">[source]</a></p>\n",
    "\n",
    "<div style=\"margin-left: 20px\">\n",
    "\n",
    "Read `proc` or `comp` data file.\n",
    "\n",
    "> Parameters:\n",
    "***\n",
    "\n",
    "* file (`str`)\n",
    "  * File name of the FISS fts data.\n",
    "* x1 (`int`, optional) - \n",
    "  * A left limit pixel index of the frame along the scan direction.\n",
    "* x2 (`int`, optional)\n",
    "  * A right limit pixel index of the frame along the scan direction. If None, read all data from x1 to the end of the scan direction.\n",
    "* y1 (`int`, optional)\n",
    "  * A left limit pixel index of the frame along the slit direction.\n",
    "* y2 (`int`, optional)\n",
    "  * A right limit pixel index of the frame along the slit direction. If None, read all data from x1 to the end of the slit direction.\n",
    "  * Default is None.\n",
    "* noceff (`int`, optional)\n",
    "  * The number of coefficientes to be used for the construction of the frame in a comp file.\n",
    "  * If 0, use all coefficients stored in the \"_p.fts\" file.\n",
    "  * Default is False.\n",
    "* smoothingMethod (`str`, optional)\n",
    "  * If it is None, do not apply the noise filter.\n",
    "  * If 'savgol', apply the Savitzky-Golay noise filter in the wavelength axis.\n",
    "  * If 'gauss', apply the Gaussian noise filter in the wavelength axis.\n",
    "  * Default is None.\n",
    "* wvCalibMethod (`str`, optional)\n",
    "  * Method to calibrate wavelength.\n",
    "  * If 'simple', calibrate with the information within the header.\n",
    "  * If 'center', calibrate with the center of the ceteral line.\n",
    "  * If 'photo', calibrate with the photospheric line and the center line.\n",
    "  * Default is 'simple'\n",
    "* &ast;&ast;kwargs\n",
    "  * Additional keyword arguments are passed to [scipy.signal.savgol_filter](https://docs.scipy.org/doc/scipy/reference/generated/scipy.signal.savgol_filter.html) or [scipy.ndimage.gaussain_filter1d](https://docs.scipy.org/doc/scipy/reference/generated/scipy.ndimage.gaussian_filter1d.html).\n",
    "<br><br>\n",
    "\n",
    "> Attributes Summary\n",
    "***\n",
    "|Attribute|Description|\n",
    "|---------|-----------|\n",
    "|type|Type of FISS data. Either `proc` or `comp`.|\n",
    "|x1|A left limit pixel index of the frame along the scan direction.|\n",
    "|x2|A right limit pixel index of the frame along the scan direction.|\n",
    "|y1|A left limit pixel index of the frame along the slit direction.|\n",
    "|y2|A right limit pixel index of the frame along the slit direction.|\n",
    "|filename|Input file name|\n",
    "</div>"
   ]
  }
 ],
 "metadata": {
  "language_info": {
   "name": "python"
  }
 },
 "nbformat": 4,
 "nbformat_minor": 2
}
