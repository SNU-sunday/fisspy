{
 "cells": [
  {
   "cell_type": "markdown",
   "metadata": {},
   "source": [
    "# Align Data Cube"
   ]
  },
  {
   "cell_type": "markdown",
   "metadata": {},
   "source": [
    "The raw data of the FISS are rotated with time because the FISS does not have the derotator. In addition, an object can be shifted by the effect of the seeing, and the image itself is reversed by the mirror. To correct these effects, we should align the data. Using the cross-correlation technique between two images and the interpolation, we can successfully align the FISS data. Here, we show how to co-align the data obatined by two cameras. First, we calculate the align parameters, such as a rotating angle, and shift in x, and y directions using the [calAlignPars](../#calAlignPars), then we co-align the image of camera A with that of camera B using the [alignCams](../#alignCams). These two procedures are combined with the [alignAll](../#alignAll) function, so you can simply align the data like this:"
   ]
  },
  {
   "cell_type": "code",
   "execution_count": 1,
   "metadata": {},
   "outputs": [
    {
     "name": "stdout",
     "output_type": "stream",
     "text": [
      "Align cam A.\n",
      "Running Alignment\n",
      "Done        \n",
      "Align cam B.\n",
      "Running Alignment\n",
      "Done        \n",
      "Align two cameras\n",
      "Write alignpar: D:\\Data\\140603\\alignpar_A.npz .\n",
      "Write alignpar: D:\\Data\\140603\\alignpar_B.npz .\n"
     ]
    }
   ],
   "source": [
    "import fisspy\n",
    "from glob import glob\n",
    "from os.path import join\n",
    "import numpy as np\n",
    "\n",
    "bdir = r'D:\\Data\\140603'\n",
    "lfa = glob(join(bdir,'*A1_c.fts'))# list of the file obtained by the camera A\n",
    "lfb = glob(join(bdir,'*B1_c.fts'))# list of the file obtained by the camera B\n",
    "lfa.sort() # sorting in time sequence\n",
    "lfb.sort() # sorting in time sequence\n",
    "apA, apB = fisspy.align.alignAll(lfa, lfb, sname=join(bdir,'alignpar_A.npz'))"
   ]
  },
  {
   "cell_type": "markdown",
   "metadata": {},
   "source": [
    "It will save the two align parameter files for each camera. Note that if there is any abnormal data, such as unlocked data or largely shifted data, it cannot successfully align the whole data. Therefore, you should check whether the data has such abnormal data in the series."
   ]
  },
  {
   "cell_type": "markdown",
   "metadata": {},
   "source": [
    "Next step is making the data cube using these align parameters. For this we use [alignDataCube](../#alignDataCube) for only one data set or [alignTwoDataCubes](../#alignTwoDataCubes) for two cameras. Here, we show the latter case."
   ]
  },
  {
   "cell_type": "code",
   "execution_count": 2,
   "metadata": {},
   "outputs": [
    {
     "name": "stdout",
     "output_type": "stream",
     "text": [
      "Running make cube\n",
      "Done             \n"
     ]
    }
   ],
   "source": [
    "nf = len(lfa)\n",
    "refA = fisspy.read.FISS(lfa[nf//2])\n",
    "refB = fisspy.read.FISS(lfb[nf//2])\n",
    "nxA = refA.nx\n",
    "nyA = refA.ny\n",
    "nxB = refB.nx\n",
    "nyB = refB.ny\n",
    "\n",
    "alignA = np.zeros((nf,nyA,nxA), dtype=float)\n",
    "alignB = np.zeros((nf,nyB,nxB), dtype=float)\n",
    "\n",
    "print('Running make cube') \n",
    "print('    0 %', end='\\r', flush=True) #to check the running status\n",
    "\n",
    "# make unaligned time series data.\n",
    "for i, f in enumerate(lfa):\n",
    "    print(f'    {(i+1)*100/nf:.2f} %', end='\\r', flush=True)\n",
    "    fiss = fisspy.read.FISS(f, wvCalibMethod='photo')\n",
    "    fissB = fisspy.read.FISS(lfb[i], wvCalibMethod='photo')\n",
    "    fiss.lambdameter(hw=0.2)\n",
    "    fissB.lambdameter(hw=0.1)\n",
    "    alignA[i] = fiss.lv\n",
    "    alignB[i] = fissB.lv\n",
    "\n",
    "print('Done             ')\n",
    "\n",
    "fapA = join(bdir, \"alignpar_A.npz\")\n",
    "fapB = join(bdir, \"alignpar_B.npz\")\n",
    "\n",
    "avA, avB = fisspy.align.alignTwoDataCubes(alignA, alignB, fapA, fapB)  # make aligned data cube\n",
    "\n",
    "apA = fisspy.align.readAlignPars(fapA)\n",
    "fisspy.align.saveAlignCube(avA, apA['time'], sname=join(bdir, '140603_alosv_A.npz')) # save the aligned data cube to read the data using the alignCube code.\n",
    "apB = fisspy.align.readAlignPars(fapB)\n",
    "fisspy.align.saveAlignCube(avB, apB['time'], sname=join(bdir, '140603_alosv_B.npz')) # save the aligned data cube to read the data using the alignCube code."
   ]
  },
  {
   "cell_type": "markdown",
   "metadata": {},
   "source": [
    "Concuraturation!! You can successfully align the data!! To check the aligned data cube, please use [alignCube](/fisspy/read/alignCube) module in fisspy.read."
   ]
  }
 ],
 "metadata": {
  "kernelspec": {
   "display_name": "Python 3",
   "language": "python",
   "name": "python3"
  },
  "language_info": {
   "codemirror_mode": {
    "name": "ipython",
    "version": 3
   },
   "file_extension": ".py",
   "mimetype": "text/x-python",
   "name": "python",
   "nbconvert_exporter": "python",
   "pygments_lexer": "ipython3",
   "version": "3.11.9"
  }
 },
 "nbformat": 4,
 "nbformat_minor": 2
}
