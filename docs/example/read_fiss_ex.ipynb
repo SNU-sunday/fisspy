{
 "cells": [
  {
   "cell_type": "markdown",
   "metadata": {},
   "source": [
    "# Read FISS data"
   ]
  },
  {
   "cell_type": "markdown",
   "metadata": {},
   "source": [
    "## Data format\n",
    "There are two kinds of level 1 data: one is the processed data which has the filenamoe of either '\\*1.fts', and the other is the compressed data that compressed the processed data using principle component analysis (PCA). The compressed data has two file one is the eigenvalue with the filename of '\\*_c.fts' and the other is the eigenvector with the name of '\\*_p.fts'. To reconstruct the data, these two types of files should be in the same directory. Among these two, only '\\*_c.fts' file is used to load the data, and '\\*_p.fts' is used passively.\n",
    "\n",
    "Below table summarize these file types:\n",
    "<table class=\"table table-bordered table-hover\">\n",
    "    <thead>\n",
    "        <tr>\n",
    "          <th class=\"thbg\">File types</th><th class=\"thbg\">Description</th>\n",
    "        </tr>\n",
    "    </thead>\n",
    "    <tbody class=\"table-group-divider\">\n",
    "    <tr>\n",
    "        <td>\\*1.fts</td>  <td>Processed data.</td>\n",
    "    </tr>\n",
    "    <tr>\n",
    "        <td>\\*_c.fts</td>  <td>Eigenvalue of the compressed data (main file).</td>\n",
    "    </tr>\n",
    "    <tr>\n",
    "        <td>\\*_p.fts</td>  <td>Eigenvector of the compressed data (sub file).</td>\n",
    "    </tr>\n",
    "    </tbody>\n",
    "</table>"
   ]
  },
  {
   "cell_type": "markdown",
   "metadata": {},
   "source": [
    "## Read Data\n",
    "\n",
    "Now, we are ready to read the FISS data. Here, we show how to handle the compressed data (\\*_c.fts), but you can also use the same method to the processed data (\\*1.fts).\n",
    "\n",
    "To read the FISS data we use the [fisspy.read.FISS](/fisspy/read/FISS) module:"
   ]
  },
  {
   "cell_type": "code",
   "execution_count": 1,
   "metadata": {},
   "outputs": [],
   "source": [
    "import fisspy\n",
    "fname = './FISS_20140603_170841_A1_c.fts'\n",
    "fiss = fisspy.read.FISS(fname)"
   ]
  },
  {
   "cell_type": "markdown",
   "metadata": {},
   "source": [
    "You can read the data with the shape of (y,x,&lambda;) and header with the .data and .header attributes."
   ]
  },
  {
   "cell_type": "code",
   "execution_count": 2,
   "metadata": {},
   "outputs": [
    {
     "data": {
      "text/plain": [
       "array([[[7116.11181641, 7123.06005859, 7115.08935547, ...,\n",
       "         7320.97900391, 7324.15869141, 7324.78466797],\n",
       "        [7012.34667969, 7019.34082031, 7011.31054688, ...,\n",
       "         7343.17773438, 7347.43310547, 7347.41552734],\n",
       "        [7006.23193359, 7010.51171875, 7003.09912109, ...,\n",
       "         7303.20996094, 7307.27441406, 7307.81689453],\n",
       "        ...,\n",
       "        [7113.49462891, 7114.36230469, 7106.13232422, ...,\n",
       "         7631.99072266, 7633.38232422, 7634.62695312],\n",
       "        [7081.48779297, 7079.49414062, 7071.55175781, ...,\n",
       "         7578.56396484, 7580.08105469, 7581.52392578],\n",
       "        [7092.57421875, 7091.46142578, 7084.03515625, ...,\n",
       "         7555.39111328, 7556.4609375 , 7557.59423828]],\n",
       "\n",
       "       [[7212.64746094, 7219.09814453, 7212.01953125, ...,\n",
       "         7318.93017578, 7322.15234375, 7322.57910156],\n",
       "        [7177.25439453, 7182.99804688, 7175.34472656, ...,\n",
       "         7355.71191406, 7359.23193359, 7358.66357422],\n",
       "        [7132.80810547, 7136.59228516, 7129.38623047, ...,\n",
       "         7305.28417969, 7308.18945312, 7308.70263672],\n",
       "        ...,\n",
       "        [7065.79296875, 7068.30175781, 7061.06982422, ...,\n",
       "         7626.03173828, 7627.05859375, 7628.70166016],\n",
       "        [7002.35253906, 7001.8515625 , 6994.52783203, ...,\n",
       "         7566.27490234, 7567.78955078, 7569.55566406],\n",
       "        [7021.21875   , 7019.43994141, 7011.95996094, ...,\n",
       "         7562.21630859, 7562.36767578, 7564.67236328]],\n",
       "\n",
       "       [[7241.15087891, 7247.05029297, 7240.47851562, ...,\n",
       "         7338.67822266, 7342.7109375 , 7344.18115234],\n",
       "        [7252.63232422, 7260.09521484, 7254.09912109, ...,\n",
       "         7386.73681641, 7390.64990234, 7391.64257812],\n",
       "        [7145.65332031, 7149.48144531, 7142.99072266, ...,\n",
       "         7308.43847656, 7312.24951172, 7313.49609375],\n",
       "        ...,\n",
       "        [7094.63623047, 7098.92919922, 7092.01708984, ...,\n",
       "         7681.48339844, 7682.96875   , 7683.60742188],\n",
       "        [7028.58642578, 7030.24316406, 7022.75292969, ...,\n",
       "         7604.31152344, 7605.55322266, 7606.68066406],\n",
       "        [6996.43945312, 6996.42529297, 6988.95947266, ...,\n",
       "         7573.12744141, 7574.19775391, 7576.15429688]],\n",
       "\n",
       "       ...,\n",
       "\n",
       "       [[7036.64746094, 7037.16259766, 7045.09570312, ...,\n",
       "         7229.30957031, 7226.89599609, 7229.54980469],\n",
       "        [7000.76318359, 7002.78369141, 7009.23193359, ...,\n",
       "         7202.43261719, 7201.7109375 , 7205.59033203],\n",
       "        [7006.60400391, 7008.78710938, 7016.1171875 , ...,\n",
       "         7234.43310547, 7235.27685547, 7237.71289062],\n",
       "        ...,\n",
       "        [6603.97363281, 6609.1796875 , 6610.92285156, ...,\n",
       "         7327.31054688, 7333.40332031, 7334.15429688],\n",
       "        [6541.77783203, 6544.40917969, 6547.33496094, ...,\n",
       "         7202.00146484, 7209.82568359, 7210.59423828],\n",
       "        [6540.33496094, 6544.27001953, 6547.78710938, ...,\n",
       "         7229.359375  , 7236.43798828, 7237.23681641]],\n",
       "\n",
       "       [[7079.18994141, 7077.49755859, 7087.25634766, ...,\n",
       "         7243.95214844, 7239.84912109, 7244.13330078],\n",
       "        [7030.85253906, 7030.89013672, 7039.74316406, ...,\n",
       "         7245.76025391, 7243.72070312, 7246.265625  ],\n",
       "        [7021.67431641, 7020.08496094, 7029.73828125, ...,\n",
       "         7240.45605469, 7240.32617188, 7243.45214844],\n",
       "        ...,\n",
       "        [6570.17529297, 6572.94970703, 6575.56933594, ...,\n",
       "         7284.13818359, 7290.47460938, 7291.52783203],\n",
       "        [6497.43798828, 6496.58496094, 6500.19921875, ...,\n",
       "         7155.86523438, 7164.11181641, 7165.36083984],\n",
       "        [6497.15429688, 6496.859375  , 6500.12255859, ...,\n",
       "         7183.61523438, 7190.92382812, 7192.05371094]],\n",
       "\n",
       "       [[7086.27539062, 7082.92919922, 7094.92382812, ...,\n",
       "         7241.73681641, 7237.0234375 , 7241.67333984],\n",
       "        [7028.95214844, 7028.87646484, 7038.41113281, ...,\n",
       "         7264.92236328, 7261.62597656, 7265.14648438],\n",
       "        [7034.25097656, 7032.36230469, 7043.29052734, ...,\n",
       "         7234.70996094, 7233.64794922, 7237.57373047],\n",
       "        ...,\n",
       "        [6573.10986328, 6576.46630859, 6578.87841797, ...,\n",
       "         7244.41894531, 7251.1875    , 7252.89599609],\n",
       "        [6504.79052734, 6503.99560547, 6507.7421875 , ...,\n",
       "         7115.03808594, 7123.48291016, 7125.04638672],\n",
       "        [6505.9453125 , 6503.875     , 6507.15429688, ...,\n",
       "         7143.95019531, 7151.77783203, 7153.34863281]]])"
      ]
     },
     "execution_count": 2,
     "metadata": {},
     "output_type": "execute_result"
    }
   ],
   "source": [
    "fiss.data"
   ]
  },
  {
   "cell_type": "code",
   "execution_count": 4,
   "metadata": {},
   "outputs": [
    {
     "data": {
      "text/plain": [
       "SIMPLE  =                    T /  file does conform to FITS standard            \n",
       "BITPIX  =                   16 /  number of bits per data pixel                 \n",
       "NAXIS   =                    3 /  number of data axes                           \n",
       "NAXIS1  =                  512 /  length of data axis 1                         \n",
       "NAXIS2  =                  256 /  length of data axis 2                         \n",
       "NAXIS3  =                  130 /  length of data axis 3                         \n",
       "DATE    = '2014-06-03T17:08:41' /  file creation date (YYYY-MM-DDThh:mm:s       \n",
       "EXPTIME =                 0.03 /  Second                                        \n",
       "HBINNING=                    1                                                  \n",
       "VBINNING=                    2                                                  \n",
       "GAIN    =                    0 /  Value Range: 0-255                            \n",
       "STRTIME = '2014.06.03-17:08:24' /  Scan Start Time                              \n",
       "ENDTIME = '2014.06.03-17:08:41' /  Scan Finish Time                             \n",
       "ELAPTIME=             17.33194 /  Elapse Time During Scanning(Second)           \n",
       "FISSMODE= 'Spectrograph'       /  FISS Mode                                     \n",
       "STEPTIME=                130.0 /  1 Step Duration time(millisecond)             \n",
       "STEPSIZE=         4.484155E-44 /  1 step size to move scanner(micrometer)       \n",
       "CCDTEMP =                  -28 /  Cooling Temperature of CCD                    \n",
       "CCDNAME = 'DV897_BV'           /  Productname of CCD                            \n",
       "WAVELEN = '6562.8  '           /  CCD1 Wavenength(angstrom)                     \n",
       "CCD_XPIX=                  512 /  Full Pixel Size of X                          \n",
       "CCD_YPIX=                  512 /  Full Pixel Size of Y                          \n",
       "OBSERVER= 'Donguk Song'        /  The Name of Main Observer                     \n",
       "TARGET  = 'Sunspot '           /  Observation Target                            \n",
       "TEL_XPOS=                  134 /  X position of Telescope on the Sun            \n",
       "TEL_YPOS=                 -318 /  Y position of Telescope on the Sun            \n",
       "CRPIX1  =        259.848724365 /  pixel position of reference line center       \n",
       "CDELT1  =      0.0191817938094 / angstrom per pixel                             \n",
       "CRVAL1  =             6562.817 / angstrom of reference line center              \n",
       "HISTROY = 'processed by FISS_PREP'                                              \n",
       "HISTORY dark+bias subtracted                                                    \n",
       "HISTORY flat-fieldded                                                           \n",
       "HISTORY -0.28 degree tilt corrected                                             \n",
       "HISTORY displacement/distortion corrected                                       "
      ]
     },
     "execution_count": 4,
     "metadata": {},
     "output_type": "execute_result"
    }
   ],
   "source": [
    "fiss.header"
   ]
  },
  {
   "cell_type": "markdown",
   "metadata": {},
   "source": [
    "You can correct the stray light and line asymmetry by using the '[corSLA](../#corSLA)' method."
   ]
  },
  {
   "cell_type": "code",
   "execution_count": 5,
   "metadata": {},
   "outputs": [],
   "source": [
    "fiss.corSLA()"
   ]
  },
  {
   "cell_type": "markdown",
   "metadata": {},
   "source": [
    "You can smooth the spectral profile by using the '[smoothingProf](../#smoothingProf)'."
   ]
  },
  {
   "cell_type": "code",
   "execution_count": 6,
   "metadata": {},
   "outputs": [],
   "source": [
    "fiss.smoothingProf()"
   ]
  },
  {
   "cell_type": "markdown",
   "metadata": {},
   "source": [
    "If you reset the data, you can reload the data using the '[reload](../#reload)'"
   ]
  },
  {
   "cell_type": "code",
   "execution_count": 7,
   "metadata": {},
   "outputs": [
    {
     "ename": "ValueError",
     "evalue": "Input one of 'savgol' or 'gauss'",
     "output_type": "error",
     "traceback": [
      "\u001b[1;31m---------------------------------------------------------------------------\u001b[0m",
      "\u001b[1;31mValueError\u001b[0m                                Traceback (most recent call last)",
      "Cell \u001b[1;32mIn[7], line 1\u001b[0m\n\u001b[1;32m----> 1\u001b[0m fiss\u001b[38;5;241m.\u001b[39mreload()\n",
      "File \u001b[1;32mc:\\Users\\dlooi\\miniforge3\\envs\\fissdocs\\Lib\\site-packages\\fisspy\\read\\read_factory.py:340\u001b[0m, in \u001b[0;36mFISS.reload\u001b[1;34m(self, x1, x2, y1, y2, ncoeff, smoothingMethod, **kwargs)\u001b[0m\n\u001b[0;32m    338\u001b[0m     \u001b[38;5;28mself\u001b[39m\u001b[38;5;241m.\u001b[39msmoothing \u001b[38;5;241m=\u001b[39m \u001b[38;5;28;01mTrue\u001b[39;00m\n\u001b[0;32m    339\u001b[0m \u001b[38;5;28;01mif\u001b[39;00m \u001b[38;5;28mself\u001b[39m\u001b[38;5;241m.\u001b[39msmoothing:\n\u001b[1;32m--> 340\u001b[0m     \u001b[38;5;28mself\u001b[39m\u001b[38;5;241m.\u001b[39msmoothingProf(method\u001b[38;5;241m=\u001b[39msmoothingMethod, \u001b[38;5;241m*\u001b[39m\u001b[38;5;241m*\u001b[39mkwargs)\n",
      "File \u001b[1;32mc:\\Users\\dlooi\\miniforge3\\envs\\fissdocs\\Lib\\site-packages\\fisspy\\read\\read_factory.py:421\u001b[0m, in \u001b[0;36mFISS.smoothingProf\u001b[1;34m(self, method, **kwargs)\u001b[0m\n\u001b[0;32m    408\u001b[0m \u001b[38;5;28;01mdef\u001b[39;00m \u001b[38;5;21msmoothingProf\u001b[39m(\u001b[38;5;28mself\u001b[39m, method\u001b[38;5;241m=\u001b[39m\u001b[38;5;124m'\u001b[39m\u001b[38;5;124msavgol\u001b[39m\u001b[38;5;124m'\u001b[39m, \u001b[38;5;241m*\u001b[39m\u001b[38;5;241m*\u001b[39mkwargs):\n\u001b[0;32m    409\u001b[0m \u001b[38;5;250m    \u001b[39m\u001b[38;5;124;03m\"\"\"\u001b[39;00m\n\u001b[0;32m    410\u001b[0m \u001b[38;5;124;03m    Parameters\u001b[39;00m\n\u001b[0;32m    411\u001b[0m \u001b[38;5;124;03m    ----------\u001b[39;00m\n\u001b[1;32m   (...)\u001b[0m\n\u001b[0;32m    419\u001b[0m \u001b[38;5;124;03m    **kwargs : `~scipy.signal.savgol_filter` properties or `~scipy.ndimage.gaussian_filter1d` properties.\u001b[39;00m\n\u001b[0;32m    420\u001b[0m \u001b[38;5;124;03m    \"\"\"\u001b[39;00m\n\u001b[1;32m--> 421\u001b[0m     \u001b[38;5;28mself\u001b[39m\u001b[38;5;241m.\u001b[39mdata \u001b[38;5;241m=\u001b[39m smoothingProf(\u001b[38;5;28mself\u001b[39m\u001b[38;5;241m.\u001b[39mdata, method\u001b[38;5;241m=\u001b[39mmethod, \u001b[38;5;241m*\u001b[39m\u001b[38;5;241m*\u001b[39mkwargs)\n\u001b[0;32m    422\u001b[0m     \u001b[38;5;28mself\u001b[39m\u001b[38;5;241m.\u001b[39msmoothing \u001b[38;5;241m=\u001b[39m \u001b[38;5;28;01mTrue\u001b[39;00m\n",
      "File \u001b[1;32mc:\\Users\\dlooi\\miniforge3\\envs\\fissdocs\\Lib\\site-packages\\fisspy\\correction\\correction.py:252\u001b[0m, in \u001b[0;36msmoothingProf\u001b[1;34m(data, method, **kwargs)\u001b[0m\n\u001b[0;32m    250\u001b[0m     \u001b[38;5;28;01mreturn\u001b[39;00m gaussian_filter1d(data, sigma, axis\u001b[38;5;241m=\u001b[39maxis, \u001b[38;5;241m*\u001b[39m\u001b[38;5;241m*\u001b[39mkwargs)\n\u001b[0;32m    251\u001b[0m \u001b[38;5;28;01melse\u001b[39;00m:\n\u001b[1;32m--> 252\u001b[0m     \u001b[38;5;28;01mraise\u001b[39;00m \u001b[38;5;167;01mValueError\u001b[39;00m(\u001b[38;5;124m\"\u001b[39m\u001b[38;5;124mInput one of \u001b[39m\u001b[38;5;124m'\u001b[39m\u001b[38;5;124msavgol\u001b[39m\u001b[38;5;124m'\u001b[39m\u001b[38;5;124m or \u001b[39m\u001b[38;5;124m'\u001b[39m\u001b[38;5;124mgauss\u001b[39m\u001b[38;5;124m'\u001b[39m\u001b[38;5;124m\"\u001b[39m)\n",
      "\u001b[1;31mValueError\u001b[0m: Input one of 'savgol' or 'gauss'"
     ]
    }
   ],
   "source": [
    "fiss.reload()"
   ]
  }
 ],
 "metadata": {
  "kernelspec": {
   "display_name": "Python 3",
   "language": "python",
   "name": "python3"
  },
  "language_info": {
   "codemirror_mode": {
    "name": "ipython",
    "version": 3
   },
   "file_extension": ".py",
   "mimetype": "text/x-python",
   "name": "python",
   "nbconvert_exporter": "python",
   "pygments_lexer": "ipython3",
   "version": "3.11.9"
  }
 },
 "nbformat": 4,
 "nbformat_minor": 2
}
