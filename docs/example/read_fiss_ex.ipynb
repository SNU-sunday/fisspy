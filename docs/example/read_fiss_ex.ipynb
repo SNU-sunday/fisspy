{
 "cells": [
  {
   "cell_type": "markdown",
   "metadata": {},
   "source": [
    "# Read FISS data"
   ]
  },
  {
   "cell_type": "markdown",
   "metadata": {},
   "source": [
    "## Data format\n",
    "There are two kinds of level 1 data: one is the processed data which has the filenamoe of either '\\*A1.fts' or '\\*B1.fts', and the other is the compressed data that compressed the processed data using principle component analysis (PCA). The compressed data has two file one is the eigenvalue with the filename of '\\*_c.fts' and the other is the eigenvector with the name of '\\*_p.fts'. To reconstruct the data, these two types of files should be in the same directory. Among these two, only '\\*_c.fts' file is used to load the data, and '\\*_p.fts' is used passively.\n",
    "\n",
    "Below table summarize these file types:\n",
    "<table class=\"table table-bordered table-hover\">\n",
    "    <thead>\n",
    "        <tr>\n",
    "          <th class=\"thbg\">File types</th><th class=\"thbg\">Description</th>\n",
    "        </tr>\n",
    "    </thead>\n",
    "    <tbody class=\"table-group-divider\">\n",
    "    <tr>\n",
    "        <td>\\*1.fts</td>  <td>Processed data.</td>\n",
    "    </tr>\n",
    "    <tr>\n",
    "        <td>\\*_c.fts</td>  <td>Eigenvalue of the compressed data (main file).</td>\n",
    "    </tr>\n",
    "    <tr>\n",
    "        <td>\\*_p.fts</td>  <td>Eigenvector of the compressed data (sub file).</td>\n",
    "    </tr>\n",
    "    </tbody>\n",
    "</table>"
   ]
  }
 ],
 "metadata": {
  "language_info": {
   "name": "python"
  }
 },
 "nbformat": 4,
 "nbformat_minor": 2
}
